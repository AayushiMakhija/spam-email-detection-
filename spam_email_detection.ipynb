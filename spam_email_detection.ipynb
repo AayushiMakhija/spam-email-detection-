{
  "nbformat": 4,
  "nbformat_minor": 0,
  "metadata": {
    "colab": {
      "provenance": [],
      "authorship_tag": "ABX9TyPfi8d0GoyqHqQM2/FAYhxW",
      "include_colab_link": true
    },
    "kernelspec": {
      "name": "python3",
      "display_name": "Python 3"
    },
    "language_info": {
      "name": "python"
    }
  },
  "cells": [
    {
      "cell_type": "markdown",
      "metadata": {
        "id": "view-in-github",
        "colab_type": "text"
      },
      "source": [
        "<a href=\"https://colab.research.google.com/github/AayushiMakhija/spam-email-detection-/blob/main/spam_email_detection.ipynb\" target=\"_parent\"><img src=\"https://colab.research.google.com/assets/colab-badge.svg\" alt=\"Open In Colab\"/></a>"
      ]
    },
    {
      "cell_type": "code",
      "source": [
        "pip install pgmpy"
      ],
      "metadata": {
        "colab": {
          "base_uri": "https://localhost:8080/"
        },
        "id": "STyvLo9sgaUn",
        "outputId": "c89870a6-7c11-41fc-f5a5-3eb39bc4748c"
      },
      "execution_count": 3,
      "outputs": [
        {
          "output_type": "stream",
          "name": "stdout",
          "text": [
            "Requirement already satisfied: pgmpy in /usr/local/lib/python3.10/dist-packages (0.1.26)\n",
            "Requirement already satisfied: networkx in /usr/local/lib/python3.10/dist-packages (from pgmpy) (3.4.1)\n",
            "Requirement already satisfied: numpy in /usr/local/lib/python3.10/dist-packages (from pgmpy) (1.26.4)\n",
            "Requirement already satisfied: scipy in /usr/local/lib/python3.10/dist-packages (from pgmpy) (1.13.1)\n",
            "Requirement already satisfied: scikit-learn in /usr/local/lib/python3.10/dist-packages (from pgmpy) (1.5.2)\n",
            "Requirement already satisfied: pandas in /usr/local/lib/python3.10/dist-packages (from pgmpy) (2.2.2)\n",
            "Requirement already satisfied: pyparsing in /usr/local/lib/python3.10/dist-packages (from pgmpy) (3.2.0)\n",
            "Requirement already satisfied: torch in /usr/local/lib/python3.10/dist-packages (from pgmpy) (2.4.1+cu121)\n",
            "Requirement already satisfied: statsmodels in /usr/local/lib/python3.10/dist-packages (from pgmpy) (0.14.4)\n",
            "Requirement already satisfied: tqdm in /usr/local/lib/python3.10/dist-packages (from pgmpy) (4.66.5)\n",
            "Requirement already satisfied: joblib in /usr/local/lib/python3.10/dist-packages (from pgmpy) (1.4.2)\n",
            "Requirement already satisfied: opt-einsum in /usr/local/lib/python3.10/dist-packages (from pgmpy) (3.4.0)\n",
            "Requirement already satisfied: xgboost in /usr/local/lib/python3.10/dist-packages (from pgmpy) (2.1.1)\n",
            "Requirement already satisfied: google-generativeai in /usr/local/lib/python3.10/dist-packages (from pgmpy) (0.7.2)\n",
            "Requirement already satisfied: google-ai-generativelanguage==0.6.6 in /usr/local/lib/python3.10/dist-packages (from google-generativeai->pgmpy) (0.6.6)\n",
            "Requirement already satisfied: google-api-core in /usr/local/lib/python3.10/dist-packages (from google-generativeai->pgmpy) (2.19.2)\n",
            "Requirement already satisfied: google-api-python-client in /usr/local/lib/python3.10/dist-packages (from google-generativeai->pgmpy) (2.137.0)\n",
            "Requirement already satisfied: google-auth>=2.15.0 in /usr/local/lib/python3.10/dist-packages (from google-generativeai->pgmpy) (2.27.0)\n",
            "Requirement already satisfied: protobuf in /usr/local/lib/python3.10/dist-packages (from google-generativeai->pgmpy) (3.20.3)\n",
            "Requirement already satisfied: pydantic in /usr/local/lib/python3.10/dist-packages (from google-generativeai->pgmpy) (2.9.2)\n",
            "Requirement already satisfied: typing-extensions in /usr/local/lib/python3.10/dist-packages (from google-generativeai->pgmpy) (4.12.2)\n",
            "Requirement already satisfied: proto-plus<2.0.0dev,>=1.22.3 in /usr/local/lib/python3.10/dist-packages (from google-ai-generativelanguage==0.6.6->google-generativeai->pgmpy) (1.24.0)\n",
            "Requirement already satisfied: python-dateutil>=2.8.2 in /usr/local/lib/python3.10/dist-packages (from pandas->pgmpy) (2.8.2)\n",
            "Requirement already satisfied: pytz>=2020.1 in /usr/local/lib/python3.10/dist-packages (from pandas->pgmpy) (2024.2)\n",
            "Requirement already satisfied: tzdata>=2022.7 in /usr/local/lib/python3.10/dist-packages (from pandas->pgmpy) (2024.2)\n",
            "Requirement already satisfied: threadpoolctl>=3.1.0 in /usr/local/lib/python3.10/dist-packages (from scikit-learn->pgmpy) (3.5.0)\n",
            "Requirement already satisfied: patsy>=0.5.6 in /usr/local/lib/python3.10/dist-packages (from statsmodels->pgmpy) (0.5.6)\n",
            "Requirement already satisfied: packaging>=21.3 in /usr/local/lib/python3.10/dist-packages (from statsmodels->pgmpy) (24.1)\n",
            "Requirement already satisfied: filelock in /usr/local/lib/python3.10/dist-packages (from torch->pgmpy) (3.16.1)\n",
            "Requirement already satisfied: sympy in /usr/local/lib/python3.10/dist-packages (from torch->pgmpy) (1.13.3)\n",
            "Requirement already satisfied: jinja2 in /usr/local/lib/python3.10/dist-packages (from torch->pgmpy) (3.1.4)\n",
            "Requirement already satisfied: fsspec in /usr/local/lib/python3.10/dist-packages (from torch->pgmpy) (2024.6.1)\n",
            "Requirement already satisfied: nvidia-nccl-cu12 in /usr/local/lib/python3.10/dist-packages (from xgboost->pgmpy) (2.23.4)\n",
            "Requirement already satisfied: googleapis-common-protos<2.0.dev0,>=1.56.2 in /usr/local/lib/python3.10/dist-packages (from google-api-core->google-generativeai->pgmpy) (1.65.0)\n",
            "Requirement already satisfied: requests<3.0.0.dev0,>=2.18.0 in /usr/local/lib/python3.10/dist-packages (from google-api-core->google-generativeai->pgmpy) (2.32.3)\n",
            "Requirement already satisfied: cachetools<6.0,>=2.0.0 in /usr/local/lib/python3.10/dist-packages (from google-auth>=2.15.0->google-generativeai->pgmpy) (5.5.0)\n",
            "Requirement already satisfied: pyasn1-modules>=0.2.1 in /usr/local/lib/python3.10/dist-packages (from google-auth>=2.15.0->google-generativeai->pgmpy) (0.4.1)\n",
            "Requirement already satisfied: rsa<5,>=3.1.4 in /usr/local/lib/python3.10/dist-packages (from google-auth>=2.15.0->google-generativeai->pgmpy) (4.9)\n",
            "Requirement already satisfied: six in /usr/local/lib/python3.10/dist-packages (from patsy>=0.5.6->statsmodels->pgmpy) (1.16.0)\n",
            "Requirement already satisfied: httplib2<1.dev0,>=0.19.0 in /usr/local/lib/python3.10/dist-packages (from google-api-python-client->google-generativeai->pgmpy) (0.22.0)\n",
            "Requirement already satisfied: google-auth-httplib2<1.0.0,>=0.2.0 in /usr/local/lib/python3.10/dist-packages (from google-api-python-client->google-generativeai->pgmpy) (0.2.0)\n",
            "Requirement already satisfied: uritemplate<5,>=3.0.1 in /usr/local/lib/python3.10/dist-packages (from google-api-python-client->google-generativeai->pgmpy) (4.1.1)\n",
            "Requirement already satisfied: MarkupSafe>=2.0 in /usr/local/lib/python3.10/dist-packages (from jinja2->torch->pgmpy) (3.0.1)\n",
            "Requirement already satisfied: annotated-types>=0.6.0 in /usr/local/lib/python3.10/dist-packages (from pydantic->google-generativeai->pgmpy) (0.7.0)\n",
            "Requirement already satisfied: pydantic-core==2.23.4 in /usr/local/lib/python3.10/dist-packages (from pydantic->google-generativeai->pgmpy) (2.23.4)\n",
            "Requirement already satisfied: mpmath<1.4,>=1.1.0 in /usr/local/lib/python3.10/dist-packages (from sympy->torch->pgmpy) (1.3.0)\n",
            "Requirement already satisfied: grpcio<2.0dev,>=1.33.2 in /usr/local/lib/python3.10/dist-packages (from google-api-core[grpc]!=2.0.*,!=2.1.*,!=2.10.*,!=2.2.*,!=2.3.*,!=2.4.*,!=2.5.*,!=2.6.*,!=2.7.*,!=2.8.*,!=2.9.*,<3.0.0dev,>=1.34.1->google-ai-generativelanguage==0.6.6->google-generativeai->pgmpy) (1.64.1)\n",
            "Requirement already satisfied: grpcio-status<2.0.dev0,>=1.33.2 in /usr/local/lib/python3.10/dist-packages (from google-api-core[grpc]!=2.0.*,!=2.1.*,!=2.10.*,!=2.2.*,!=2.3.*,!=2.4.*,!=2.5.*,!=2.6.*,!=2.7.*,!=2.8.*,!=2.9.*,<3.0.0dev,>=1.34.1->google-ai-generativelanguage==0.6.6->google-generativeai->pgmpy) (1.48.2)\n",
            "Requirement already satisfied: pyasn1<0.7.0,>=0.4.6 in /usr/local/lib/python3.10/dist-packages (from pyasn1-modules>=0.2.1->google-auth>=2.15.0->google-generativeai->pgmpy) (0.6.1)\n",
            "Requirement already satisfied: charset-normalizer<4,>=2 in /usr/local/lib/python3.10/dist-packages (from requests<3.0.0.dev0,>=2.18.0->google-api-core->google-generativeai->pgmpy) (3.4.0)\n",
            "Requirement already satisfied: idna<4,>=2.5 in /usr/local/lib/python3.10/dist-packages (from requests<3.0.0.dev0,>=2.18.0->google-api-core->google-generativeai->pgmpy) (3.10)\n",
            "Requirement already satisfied: urllib3<3,>=1.21.1 in /usr/local/lib/python3.10/dist-packages (from requests<3.0.0.dev0,>=2.18.0->google-api-core->google-generativeai->pgmpy) (2.2.3)\n",
            "Requirement already satisfied: certifi>=2017.4.17 in /usr/local/lib/python3.10/dist-packages (from requests<3.0.0.dev0,>=2.18.0->google-api-core->google-generativeai->pgmpy) (2024.8.30)\n"
          ]
        }
      ]
    },
    {
      "cell_type": "code",
      "execution_count": 4,
      "metadata": {
        "id": "hCcXJ5n8gTn6"
      },
      "outputs": [],
      "source": [
        "from pgmpy.models import BayesianNetwork, MarkovNetwork\n",
        "from pgmpy.factors.discrete import TabularCPD, DiscreteFactor\n",
        "from pgmpy.inference import VariableElimination, BeliefPropagation"
      ]
    },
    {
      "cell_type": "code",
      "source": [
        "# ---------------- Bayesian Network ---------------- #\n",
        "\n",
        "# Step 1: Create the Bayesian Network\n",
        "bayes_net = BayesianNetwork([\n",
        "    ('ContainsKeywords', 'IsSpam'),\n",
        "    ('KnownSender', 'IsSpam')\n",
        "])"
      ],
      "metadata": {
        "id": "pfT6AIVuheUm"
      },
      "execution_count": 5,
      "outputs": []
    },
    {
      "cell_type": "code",
      "source": [
        "# Step 2: Define CPDs for Bayesian Network\n",
        "\n",
        "# CPD for Contains Keywords (No = 0, Yes = 1)\n",
        "cpd_keywords = TabularCPD(variable='ContainsKeywords', variable_card=2, values=[[0.7], [0.3]])\n",
        "\n",
        "# CPD for Known Sender (No = 0, Yes = 1)\n",
        "cpd_sender = TabularCPD(variable='KnownSender', variable_card=2, values=[[0.6], [0.4]])\n",
        "\n",
        "# CPD for Is Spam (No = 0, Yes = 1) given Contains Keywords and Known Sender\n",
        "cpd_spam = TabularCPD(variable='IsSpam', variable_card=2,\n",
        "                      values=[[0.9, 0.7, 0.6, 0.2], [0.1, 0.3, 0.4, 0.8]],\n",
        "                      evidence=['ContainsKeywords', 'KnownSender'], evidence_card=[2, 2])\n",
        "\n",
        "# Add CPDs to the Bayesian Network\n",
        "bayes_net.add_cpds(cpd_keywords, cpd_sender, cpd_spam)"
      ],
      "metadata": {
        "id": "Q0OlyciTgktm"
      },
      "execution_count": 6,
      "outputs": []
    },
    {
      "cell_type": "code",
      "source": [
        "# Step 3: Perform inference using Variable Elimination on the Bayesian Network\n",
        "inference_bayes = VariableElimination(bayes_net)\n",
        "\n",
        "# Example Query: What is the probability that an email is spam given it contains suspicious keywords but is from a known sender?\n",
        "result_bayes = inference_bayes.query(variables=['IsSpam'], evidence={'ContainsKeywords': 1, 'KnownSender': 1})\n",
        "print(\"\\nBayesian Network - Probability of Spam given Contains Keywords and Known Sender:\")\n",
        "print(result_bayes)"
      ],
      "metadata": {
        "colab": {
          "base_uri": "https://localhost:8080/"
        },
        "id": "A7Q0yE0VhrA9",
        "outputId": "4a0ca1f5-7ed5-43b1-f7bf-9fbabea797ea"
      },
      "execution_count": 7,
      "outputs": [
        {
          "output_type": "stream",
          "name": "stdout",
          "text": [
            "\n",
            "Bayesian Network - Probability of Spam given Contains Keywords and Known Sender:\n",
            "+-----------+---------------+\n",
            "| IsSpam    |   phi(IsSpam) |\n",
            "+===========+===============+\n",
            "| IsSpam(0) |        0.2000 |\n",
            "+-----------+---------------+\n",
            "| IsSpam(1) |        0.8000 |\n",
            "+-----------+---------------+\n"
          ]
        }
      ]
    },
    {
      "cell_type": "code",
      "source": [
        "# ---------------- Markov Network ---------------- #\n",
        "\n",
        "# Step 4: Create the Markov Network (Markov Random Field)\n",
        "markov_net = MarkovNetwork()\n",
        "\n",
        "# Define undirected edges\n",
        "markov_net.add_edges_from([\n",
        "    ('ContainsKeywords', 'KnownSender'),\n",
        "    ('ContainsKeywords', 'IsSpam'),\n",
        "    ('KnownSender', 'IsSpam')\n",
        "])"
      ],
      "metadata": {
        "id": "gZRggGV3hvG1"
      },
      "execution_count": 8,
      "outputs": []
    },
    {
      "cell_type": "code",
      "source": [
        "# Step 5: Define potential functions (factors) for the Markov Network\n",
        "\n",
        "# Factor between Contains Keywords and Known Sender\n",
        "factor_keywords_sender = DiscreteFactor(variables=['ContainsKeywords', 'KnownSender'], cardinality=[2, 2],\n",
        "                                        values=[0.8, 0.2, 0.5, 0.5])\n",
        "\n",
        "# Factor between Contains Keywords and Is Spam\n",
        "factor_keywords_spam = DiscreteFactor(variables=['ContainsKeywords', 'IsSpam'], cardinality=[2, 2],\n",
        "                                      values=[0.9, 0.1, 0.6, 0.4])\n",
        "\n",
        "# Factor between Known Sender and Is Spam\n",
        "factor_sender_spam = DiscreteFactor(variables=['KnownSender', 'IsSpam'], cardinality=[2, 2],\n",
        "                                    values=[0.7, 0.3, 0.4, 0.6])\n",
        "\n",
        "# Add the factors to the Markov Network\n",
        "markov_net.add_factors(factor_keywords_sender, factor_keywords_spam, factor_sender_spam)"
      ],
      "metadata": {
        "id": "VV67BLVohz8M"
      },
      "execution_count": 9,
      "outputs": []
    },
    {
      "cell_type": "code",
      "source": [
        "# Step 6: Perform inference using Belief Propagation on the Markov Network\n",
        "belief_propagation = BeliefPropagation(markov_net)\n",
        "\n",
        "# Example Query: Marginal distribution for Is Spam\n",
        "marginal_spam = belief_propagation.query(variables=['IsSpam'])\n",
        "print(\"\\nMarkov Network - Marginal Probability of Spam:\")\n",
        "print(marginal_spam)\n",
        "\n",
        "# Example Query: Joint distribution between Contains Keywords and Known Sender\n",
        "joint_keywords_sender = belief_propagation.query(variables=['ContainsKeywords', 'KnownSender'])\n",
        "print(\"\\nMarkov Network - Joint Probability of Contains Keywords and Known Sender:\")\n",
        "print(joint_keywords_sender)"
      ],
      "metadata": {
        "colab": {
          "base_uri": "https://localhost:8080/"
        },
        "id": "-pa6TX-4h4JU",
        "outputId": "9caa9dbb-b12e-4ab6-d6d0-0afbb302da57"
      },
      "execution_count": 10,
      "outputs": [
        {
          "output_type": "stream",
          "name": "stdout",
          "text": [
            "\n",
            "Markov Network - Marginal Probability of Spam:\n",
            "+-----------+---------------+\n",
            "| IsSpam    |   phi(IsSpam) |\n",
            "+===========+===============+\n",
            "| IsSpam(0) |        0.8075 |\n",
            "+-----------+---------------+\n",
            "| IsSpam(1) |        0.1925 |\n",
            "+-----------+---------------+\n",
            "\n",
            "Markov Network - Joint Probability of Contains Keywords and Known Sender:\n",
            "+---------------------+----------------+-------------------------------------+\n",
            "| ContainsKeywords    | KnownSender    |   phi(ContainsKeywords,KnownSender) |\n",
            "+=====================+================+=====================================+\n",
            "| ContainsKeywords(0) | KnownSender(0) |                              0.4706 |\n",
            "+---------------------+----------------+-------------------------------------+\n",
            "| ContainsKeywords(0) | KnownSender(1) |                              0.0749 |\n",
            "+---------------------+----------------+-------------------------------------+\n",
            "| ContainsKeywords(1) | KnownSender(0) |                              0.2406 |\n",
            "+---------------------+----------------+-------------------------------------+\n",
            "| ContainsKeywords(1) | KnownSender(1) |                              0.2139 |\n",
            "+---------------------+----------------+-------------------------------------+\n"
          ]
        }
      ]
    }
  ]
}